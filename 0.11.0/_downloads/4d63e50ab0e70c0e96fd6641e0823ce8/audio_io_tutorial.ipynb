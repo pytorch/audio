{
  "cells": [
    {
      "cell_type": "markdown",
      "metadata": {},
      "source": [
        "\n# Audio I/O\n\n``torchaudio`` integrates ``libsox`` and provides a rich set of audio I/O.\n"
      ]
    },
    {
      "cell_type": "code",
      "execution_count": null,
      "metadata": {
        "collapsed": false
      },
      "outputs": [],
      "source": [
        "# When running this tutorial in Google Colab, install the required packages\n# with the following.\n# !pip install torchaudio boto3\n\nimport torch\nimport torchaudio\n\nprint(torch.__version__)\nprint(torchaudio.__version__)"
      ]
    },
    {
      "cell_type": "markdown",
      "metadata": {},
      "source": [
        "## Preparing data and utility functions (skip this section)\n\n\n"
      ]
    },
    {
      "cell_type": "code",
      "execution_count": null,
      "metadata": {
        "collapsed": false
      },
      "outputs": [],
      "source": [
        "# @title Prepare data and utility functions. {display-mode: \"form\"}\n# @markdown\n# @markdown You do not need to look into this cell.\n# @markdown Just execute once and you are good to go.\n# @markdown\n# @markdown In this tutorial, we will use a speech data from [VOiCES dataset](https://iqtlabs.github.io/voices/),\n# @markdown which is licensed under Creative Commos BY 4.0.\n\n\nimport io\nimport os\nimport tarfile\n\nimport boto3\nimport matplotlib.pyplot as plt\nimport requests\nfrom botocore import UNSIGNED\nfrom botocore.config import Config\nfrom IPython.display import Audio, display\n\n\n_SAMPLE_DIR = \"_assets\"\nSAMPLE_WAV_URL = \"https://pytorch-tutorial-assets.s3.amazonaws.com/steam-train-whistle-daniel_simon.wav\"\nSAMPLE_WAV_PATH = os.path.join(_SAMPLE_DIR, \"steam.wav\")\n\nSAMPLE_MP3_URL = \"https://pytorch-tutorial-assets.s3.amazonaws.com/steam-train-whistle-daniel_simon.mp3\"\nSAMPLE_MP3_PATH = os.path.join(_SAMPLE_DIR, \"steam.mp3\")\n\nSAMPLE_GSM_URL = \"https://pytorch-tutorial-assets.s3.amazonaws.com/steam-train-whistle-daniel_simon.gsm\"\nSAMPLE_GSM_PATH = os.path.join(_SAMPLE_DIR, \"steam.gsm\")\n\nSAMPLE_WAV_SPEECH_URL = \"https://pytorch-tutorial-assets.s3.amazonaws.com/VOiCES_devkit/source-16k/train/sp0307/Lab41-SRI-VOiCES-src-sp0307-ch127535-sg0042.wav\"  # noqa: E501\nSAMPLE_WAV_SPEECH_PATH = os.path.join(_SAMPLE_DIR, \"speech.wav\")\n\nSAMPLE_TAR_URL = \"https://pytorch-tutorial-assets.s3.amazonaws.com/VOiCES_devkit.tar.gz\"\nSAMPLE_TAR_PATH = os.path.join(_SAMPLE_DIR, \"sample.tar.gz\")\nSAMPLE_TAR_ITEM = \"VOiCES_devkit/source-16k/train/sp0307/Lab41-SRI-VOiCES-src-sp0307-ch127535-sg0042.wav\"\n\nS3_BUCKET = \"pytorch-tutorial-assets\"\nS3_KEY = \"VOiCES_devkit/source-16k/train/sp0307/Lab41-SRI-VOiCES-src-sp0307-ch127535-sg0042.wav\"\n\n\ndef _fetch_data():\n    os.makedirs(_SAMPLE_DIR, exist_ok=True)\n    uri = [\n        (SAMPLE_WAV_URL, SAMPLE_WAV_PATH),\n        (SAMPLE_MP3_URL, SAMPLE_MP3_PATH),\n        (SAMPLE_GSM_URL, SAMPLE_GSM_PATH),\n        (SAMPLE_WAV_SPEECH_URL, SAMPLE_WAV_SPEECH_PATH),\n        (SAMPLE_TAR_URL, SAMPLE_TAR_PATH),\n    ]\n    for url, path in uri:\n        with open(path, \"wb\") as file_:\n            file_.write(requests.get(url).content)\n\n\n_fetch_data()\n\n\ndef print_stats(waveform, sample_rate=None, src=None):\n    if src:\n        print(\"-\" * 10)\n        print(\"Source:\", src)\n        print(\"-\" * 10)\n    if sample_rate:\n        print(\"Sample Rate:\", sample_rate)\n    print(\"Shape:\", tuple(waveform.shape))\n    print(\"Dtype:\", waveform.dtype)\n    print(f\" - Max:     {waveform.max().item():6.3f}\")\n    print(f\" - Min:     {waveform.min().item():6.3f}\")\n    print(f\" - Mean:    {waveform.mean().item():6.3f}\")\n    print(f\" - Std Dev: {waveform.std().item():6.3f}\")\n    print()\n    print(waveform)\n    print()\n\n\ndef plot_waveform(waveform, sample_rate, title=\"Waveform\", xlim=None, ylim=None):\n    waveform = waveform.numpy()\n\n    num_channels, num_frames = waveform.shape\n    time_axis = torch.arange(0, num_frames) / sample_rate\n\n    figure, axes = plt.subplots(num_channels, 1)\n    if num_channels == 1:\n        axes = [axes]\n    for c in range(num_channels):\n        axes[c].plot(time_axis, waveform[c], linewidth=1)\n        axes[c].grid(True)\n        if num_channels > 1:\n            axes[c].set_ylabel(f\"Channel {c+1}\")\n        if xlim:\n            axes[c].set_xlim(xlim)\n        if ylim:\n            axes[c].set_ylim(ylim)\n    figure.suptitle(title)\n    plt.show(block=False)\n\n\ndef plot_specgram(waveform, sample_rate, title=\"Spectrogram\", xlim=None):\n    waveform = waveform.numpy()\n\n    num_channels, num_frames = waveform.shape\n\n    figure, axes = plt.subplots(num_channels, 1)\n    if num_channels == 1:\n        axes = [axes]\n    for c in range(num_channels):\n        axes[c].specgram(waveform[c], Fs=sample_rate)\n        if num_channels > 1:\n            axes[c].set_ylabel(f\"Channel {c+1}\")\n        if xlim:\n            axes[c].set_xlim(xlim)\n    figure.suptitle(title)\n    plt.show(block=False)\n\n\ndef play_audio(waveform, sample_rate):\n    waveform = waveform.numpy()\n\n    num_channels, num_frames = waveform.shape\n    if num_channels == 1:\n        display(Audio(waveform[0], rate=sample_rate))\n    elif num_channels == 2:\n        display(Audio((waveform[0], waveform[1]), rate=sample_rate))\n    else:\n        raise ValueError(\"Waveform with more than 2 channels are not supported.\")\n\n\ndef _get_sample(path, resample=None):\n    effects = [[\"remix\", \"1\"]]\n    if resample:\n        effects.extend(\n            [\n                [\"lowpass\", f\"{resample // 2}\"],\n                [\"rate\", f\"{resample}\"],\n            ]\n        )\n    return torchaudio.sox_effects.apply_effects_file(path, effects=effects)\n\n\ndef get_sample(*, resample=None):\n    return _get_sample(SAMPLE_WAV_PATH, resample=resample)\n\n\ndef inspect_file(path):\n    print(\"-\" * 10)\n    print(\"Source:\", path)\n    print(\"-\" * 10)\n    print(f\" - File size: {os.path.getsize(path)} bytes\")\n    print(f\" - {torchaudio.info(path)}\")"
      ]
    },
    {
      "cell_type": "markdown",
      "metadata": {},
      "source": [
        "## Querying audio metadata\n\nFunction :py:func:`torchaudio.info` fetches audio metadata.\nYou can provide a path-like object or file-like object.\n\n\n"
      ]
    },
    {
      "cell_type": "code",
      "execution_count": null,
      "metadata": {
        "collapsed": false
      },
      "outputs": [],
      "source": [
        "metadata = torchaudio.info(SAMPLE_WAV_PATH)\nprint(metadata)"
      ]
    },
    {
      "cell_type": "markdown",
      "metadata": {},
      "source": [
        "Where\n\n-  ``sample_rate`` is the sampling rate of the audio\n-  ``num_channels`` is the number of channels\n-  ``num_frames`` is the number of frames per channel\n-  ``bits_per_sample`` is bit depth\n-  ``encoding`` is the sample coding format\n\n``encoding`` can take on one of the following values:\n\n-  ``\"PCM_S\"``: Signed integer linear PCM\n-  ``\"PCM_U\"``: Unsigned integer linear PCM\n-  ``\"PCM_F\"``: Floating point linear PCM\n-  ``\"FLAC\"``: Flac, `Free Lossless Audio\n   Codec <https://xiph.org/flac/>`__\n-  ``\"ULAW\"``: Mu-law,\n   [`wikipedia <https://en.wikipedia.org/wiki/%CE%9C-law_algorithm>`__]\n-  ``\"ALAW\"``: A-law\n   [`wikipedia <https://en.wikipedia.org/wiki/A-law_algorithm>`__]\n-  ``\"MP3\"`` : MP3, MPEG-1 Audio Layer III\n-  ``\"VORBIS\"``: OGG Vorbis [`xiph.org <https://xiph.org/vorbis/>`__]\n-  ``\"AMR_NB\"``: Adaptive Multi-Rate\n   [`wikipedia <https://en.wikipedia.org/wiki/Adaptive_Multi-Rate_audio_codec>`__]\n-  ``\"AMR_WB\"``: Adaptive Multi-Rate Wideband\n   [`wikipedia <https://en.wikipedia.org/wiki/Adaptive_Multi-Rate_Wideband>`__]\n-  ``\"OPUS\"``: Opus [`opus-codec.org <https://opus-codec.org/>`__]\n-  ``\"GSM\"``: GSM-FR\n   [`wikipedia <https://en.wikipedia.org/wiki/Full_Rate>`__]\n-  ``\"UNKNOWN\"`` None of above\n\n\n"
      ]
    },
    {
      "cell_type": "markdown",
      "metadata": {},
      "source": [
        "**Note**\n\n-  ``bits_per_sample`` can be ``0`` for formats with compression and/or\n   variable bit rate (such as MP3).\n-  ``num_frames`` can be ``0`` for GSM-FR format.\n\n\n"
      ]
    },
    {
      "cell_type": "code",
      "execution_count": null,
      "metadata": {
        "collapsed": false
      },
      "outputs": [],
      "source": [
        "metadata = torchaudio.info(SAMPLE_MP3_PATH)\nprint(metadata)\n\nmetadata = torchaudio.info(SAMPLE_GSM_PATH)\nprint(metadata)"
      ]
    },
    {
      "cell_type": "markdown",
      "metadata": {},
      "source": [
        "### Querying file-like object\n\n:py:func:`torchaudio.info` works on file-like objects.\n\n\n"
      ]
    },
    {
      "cell_type": "code",
      "execution_count": null,
      "metadata": {
        "collapsed": false
      },
      "outputs": [],
      "source": [
        "print(\"Source:\", SAMPLE_WAV_URL)\nwith requests.get(SAMPLE_WAV_URL, stream=True) as response:\n    metadata = torchaudio.info(response.raw)\nprint(metadata)"
      ]
    },
    {
      "cell_type": "markdown",
      "metadata": {},
      "source": [
        "**Note** When passing a file-like object, ``info`` does not read\nall of the underlying data; rather, it reads only a portion\nof the data from the beginning.\nTherefore, for a given audio format, it may not be able to retrieve the\ncorrect metadata, including the format itself.\nThe following example illustrates this.\n\n-  Use argument ``format`` to specify the audio format of the input.\n-  The returned metadata has ``num_frames = 0``\n\n\n"
      ]
    },
    {
      "cell_type": "code",
      "execution_count": null,
      "metadata": {
        "collapsed": false
      },
      "outputs": [],
      "source": [
        "print(\"Source:\", SAMPLE_MP3_URL)\nwith requests.get(SAMPLE_MP3_URL, stream=True) as response:\n    metadata = torchaudio.info(response.raw, format=\"mp3\")\n\n    print(f\"Fetched {response.raw.tell()} bytes.\")\nprint(metadata)"
      ]
    },
    {
      "cell_type": "markdown",
      "metadata": {},
      "source": [
        "## Loading audio data into Tensor\n\nTo load audio data, you can use :py:func:`torchaudio.load`.\n\nThis function accepts a path-like object or file-like object as input.\n\nThe returned value is a tuple of waveform (``Tensor``) and sample rate\n(``int``).\n\nBy default, the resulting tensor object has ``dtype=torch.float32`` and\nits value range is normalized within ``[-1.0, 1.0]``.\n\nFor the list of supported format, please refer to `the torchaudio\ndocumentation <https://pytorch.org/audio>`__.\n\n\n"
      ]
    },
    {
      "cell_type": "code",
      "execution_count": null,
      "metadata": {
        "collapsed": false
      },
      "outputs": [],
      "source": [
        "waveform, sample_rate = torchaudio.load(SAMPLE_WAV_SPEECH_PATH)\n\nprint_stats(waveform, sample_rate=sample_rate)\nplot_waveform(waveform, sample_rate)\nplot_specgram(waveform, sample_rate)\nplay_audio(waveform, sample_rate)"
      ]
    },
    {
      "cell_type": "markdown",
      "metadata": {},
      "source": [
        "### Loading from file-like object\n\n``torchaudio``\\ \u2019s I/O functions now support file-like objects. This\nallows for fetching and decoding audio data from locations\nwithin and beyond the local file system.\nThe following examples illustrate this.\n\n\n"
      ]
    },
    {
      "cell_type": "code",
      "execution_count": null,
      "metadata": {
        "collapsed": false
      },
      "outputs": [],
      "source": [
        "# Load audio data as HTTP request\nwith requests.get(SAMPLE_WAV_SPEECH_URL, stream=True) as response:\n    waveform, sample_rate = torchaudio.load(response.raw)\nplot_specgram(waveform, sample_rate, title=\"HTTP datasource\")\n\n# Load audio from tar file\nwith tarfile.open(SAMPLE_TAR_PATH, mode=\"r\") as tarfile_:\n    fileobj = tarfile_.extractfile(SAMPLE_TAR_ITEM)\n    waveform, sample_rate = torchaudio.load(fileobj)\nplot_specgram(waveform, sample_rate, title=\"TAR file\")\n\n# Load audio from S3\nclient = boto3.client(\"s3\", config=Config(signature_version=UNSIGNED))\nresponse = client.get_object(Bucket=S3_BUCKET, Key=S3_KEY)\nwaveform, sample_rate = torchaudio.load(response[\"Body\"])\nplot_specgram(waveform, sample_rate, title=\"From S3\")"
      ]
    },
    {
      "cell_type": "markdown",
      "metadata": {},
      "source": [
        "### Tips on slicing\n\nProviding ``num_frames`` and ``frame_offset`` arguments restricts\ndecoding to the corresponding segment of the input.\n\nThe same result can be achieved using vanilla Tensor slicing,\n(i.e.\u00a0``waveform[:, frame_offset:frame_offset+num_frames]``). However,\nproviding ``num_frames`` and ``frame_offset`` arguments is more\nefficient.\n\nThis is because the function will end data acquisition and decoding\nonce it finishes decoding the requested frames. This is advantageous\nwhen the audio data are transferred via network as the data transfer will\nstop as soon as the necessary amount of data is fetched.\n\nThe following example illustrates this.\n\n\n"
      ]
    },
    {
      "cell_type": "code",
      "execution_count": null,
      "metadata": {
        "collapsed": false
      },
      "outputs": [],
      "source": [
        "# Illustration of two different decoding methods.\n# The first one will fetch all the data and decode them, while\n# the second one will stop fetching data once it completes decoding.\n# The resulting waveforms are identical.\n\nframe_offset, num_frames = 16000, 16000  # Fetch and decode the 1 - 2 seconds\n\nprint(\"Fetching all the data...\")\nwith requests.get(SAMPLE_WAV_SPEECH_URL, stream=True) as response:\n    waveform1, sample_rate1 = torchaudio.load(response.raw)\n    waveform1 = waveform1[:, frame_offset : frame_offset + num_frames]\n    print(f\" - Fetched {response.raw.tell()} bytes\")\n\nprint(\"Fetching until the requested frames are available...\")\nwith requests.get(SAMPLE_WAV_SPEECH_URL, stream=True) as response:\n    waveform2, sample_rate2 = torchaudio.load(response.raw, frame_offset=frame_offset, num_frames=num_frames)\n    print(f\" - Fetched {response.raw.tell()} bytes\")\n\nprint(\"Checking the resulting waveform ... \", end=\"\")\nassert (waveform1 == waveform2).all()\nprint(\"matched!\")"
      ]
    },
    {
      "cell_type": "markdown",
      "metadata": {},
      "source": [
        "## Saving audio to file\n\nTo save audio data in formats interpretable by common applications,\nyou can use :py:func:`torchaudio.save`.\n\nThis function accepts a path-like object or file-like object.\n\nWhen passing a file-like object, you also need to provide argument ``format``\nso that the function knows which format it should use. In the\ncase of a path-like object, the function will infer the format from\nthe extension. If you are saving to a file without an extension, you need\nto provide argument ``format``.\n\nWhen saving WAV-formatted data, the default encoding for ``float32`` Tensor\nis 32-bit floating-point PCM. You can provide arguments ``encoding`` and\n``bits_per_sample`` to change this behavior. For example, to save data\nin 16-bit signed integer PCM, you can do the following.\n\n**Note** Saving data in encodings with lower bit depth reduces the\nresulting file size but also precision.\n\n\n"
      ]
    },
    {
      "cell_type": "code",
      "execution_count": null,
      "metadata": {
        "collapsed": false
      },
      "outputs": [],
      "source": [
        "waveform, sample_rate = get_sample()\nprint_stats(waveform, sample_rate=sample_rate)\n\n# Save without any encoding option.\n# The function will pick up the encoding which\n# the provided data fit\npath = f\"{_SAMPLE_DIR}/save_example_default.wav\"\ntorchaudio.save(path, waveform, sample_rate)\ninspect_file(path)\n\n# Save as 16-bit signed integer Linear PCM\n# The resulting file occupies half the storage but loses precision\npath = f\"{_SAMPLE_DIR}/save_example_PCM_S16.wav\"\ntorchaudio.save(path, waveform, sample_rate, encoding=\"PCM_S\", bits_per_sample=16)\ninspect_file(path)"
      ]
    },
    {
      "cell_type": "markdown",
      "metadata": {},
      "source": [
        ":py:func`torchaudio.save` can also handle other formats.\nTo name a few:\n\n\n"
      ]
    },
    {
      "cell_type": "code",
      "execution_count": null,
      "metadata": {
        "collapsed": false
      },
      "outputs": [],
      "source": [
        "waveform, sample_rate = get_sample(resample=8000)\n\nformats = [\n    \"mp3\",\n    \"flac\",\n    \"vorbis\",\n    \"sph\",\n    \"amb\",\n    \"amr-nb\",\n    \"gsm\",\n]\n\nfor format in formats:\n    path = f\"{_SAMPLE_DIR}/save_example.{format}\"\n    torchaudio.save(path, waveform, sample_rate, format=format)\n    inspect_file(path)"
      ]
    },
    {
      "cell_type": "markdown",
      "metadata": {},
      "source": [
        "### Saving to file-like object\n\nSimilar to the other I/O functions, you can save audio to file-like\nobjects. When saving to a file-like object, argument ``format`` is\nrequired.\n\n\n"
      ]
    },
    {
      "cell_type": "code",
      "execution_count": null,
      "metadata": {
        "collapsed": false
      },
      "outputs": [],
      "source": [
        "waveform, sample_rate = get_sample()\n\n# Saving to bytes buffer\nbuffer_ = io.BytesIO()\ntorchaudio.save(buffer_, waveform, sample_rate, format=\"wav\")\n\nbuffer_.seek(0)\nprint(buffer_.read(16))"
      ]
    }
  ],
  "metadata": {
    "kernelspec": {
      "display_name": "Python 3",
      "language": "python",
      "name": "python3"
    },
    "language_info": {
      "codemirror_mode": {
        "name": "ipython",
        "version": 3
      },
      "file_extension": ".py",
      "mimetype": "text/x-python",
      "name": "python",
      "nbconvert_exporter": "python",
      "pygments_lexer": "ipython3",
      "version": "3.8.12"
    }
  },
  "nbformat": 4,
  "nbformat_minor": 0
}