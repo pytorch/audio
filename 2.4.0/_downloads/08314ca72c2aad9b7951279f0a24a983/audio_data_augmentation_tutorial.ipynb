{
  "cells": [
    {
      "cell_type": "markdown",
      "metadata": {},
      "source": [
        "\n# Audio Data Augmentation\n\n**Author**: [Moto Hira](moto@meta.com)_\n\n``torchaudio`` provides a variety of ways to augment audio data.\n\nIn this tutorial, we look into a way to apply effects, filters,\nRIR (room impulse response) and codecs.\n\nAt the end, we synthesize noisy speech over phone from clean speech.\n"
      ]
    },
    {
      "cell_type": "code",
      "execution_count": null,
      "metadata": {
        "collapsed": false
      },
      "outputs": [],
      "source": [
        "import torch\nimport torchaudio\nimport torchaudio.functional as F\n\nprint(torch.__version__)\nprint(torchaudio.__version__)\n\nimport matplotlib.pyplot as plt"
      ]
    },
    {
      "cell_type": "markdown",
      "metadata": {},
      "source": [
        "## Preparation\n\nFirst, we import the modules and download the audio assets we use in this tutorial.\n\n\n"
      ]
    },
    {
      "cell_type": "code",
      "execution_count": null,
      "metadata": {
        "collapsed": false
      },
      "outputs": [],
      "source": [
        "from IPython.display import Audio\n\nfrom torchaudio.utils import download_asset\n\nSAMPLE_WAV = download_asset(\"tutorial-assets/steam-train-whistle-daniel_simon.wav\")\nSAMPLE_RIR = download_asset(\"tutorial-assets/Lab41-SRI-VOiCES-rm1-impulse-mc01-stu-clo-8000hz.wav\")\nSAMPLE_SPEECH = download_asset(\"tutorial-assets/Lab41-SRI-VOiCES-src-sp0307-ch127535-sg0042-8000hz.wav\")\nSAMPLE_NOISE = download_asset(\"tutorial-assets/Lab41-SRI-VOiCES-rm1-babb-mc01-stu-clo-8000hz.wav\")"
      ]
    },
    {
      "cell_type": "markdown",
      "metadata": {},
      "source": [
        "## Applying effects and filtering\n\n:py:class:`torchaudio.io.AudioEffector` allows for directly applying\nfilters and codecs to Tensor objects, in a similar way as ``ffmpeg``\ncommand\n\n`AudioEffector Usages <./effector_tutorial.html>` explains how to use\nthis class, so for the detail, please refer to the tutorial.\n\n\n"
      ]
    },
    {
      "cell_type": "code",
      "execution_count": null,
      "metadata": {
        "collapsed": false
      },
      "outputs": [],
      "source": [
        "# Load the data\nwaveform1, sample_rate = torchaudio.load(SAMPLE_WAV, channels_first=False)\n\n# Define effects\neffect = \",\".join(\n    [\n        \"lowpass=frequency=300:poles=1\",  # apply single-pole lowpass filter\n        \"atempo=0.8\",  # reduce the speed\n        \"aecho=in_gain=0.8:out_gain=0.9:delays=200:decays=0.3|delays=400:decays=0.3\"\n        # Applying echo gives some dramatic feeling\n    ],\n)\n\n\n# Apply effects\ndef apply_effect(waveform, sample_rate, effect):\n    effector = torchaudio.io.AudioEffector(effect=effect)\n    return effector.apply(waveform, sample_rate)\n\n\nwaveform2 = apply_effect(waveform1, sample_rate, effect)\n\nprint(waveform1.shape, sample_rate)\nprint(waveform2.shape, sample_rate)"
      ]
    },
    {
      "cell_type": "markdown",
      "metadata": {},
      "source": [
        "Note that the number of frames and number of channels are different from\nthose of the original after the effects are applied. Let\u2019s listen to the\naudio.\n\n\n"
      ]
    },
    {
      "cell_type": "code",
      "execution_count": null,
      "metadata": {
        "collapsed": false
      },
      "outputs": [],
      "source": [
        "def plot_waveform(waveform, sample_rate, title=\"Waveform\", xlim=None):\n    waveform = waveform.numpy()\n\n    num_channels, num_frames = waveform.shape\n    time_axis = torch.arange(0, num_frames) / sample_rate\n\n    figure, axes = plt.subplots(num_channels, 1)\n    if num_channels == 1:\n        axes = [axes]\n    for c in range(num_channels):\n        axes[c].plot(time_axis, waveform[c], linewidth=1)\n        axes[c].grid(True)\n        if num_channels > 1:\n            axes[c].set_ylabel(f\"Channel {c+1}\")\n        if xlim:\n            axes[c].set_xlim(xlim)\n    figure.suptitle(title)"
      ]
    },
    {
      "cell_type": "code",
      "execution_count": null,
      "metadata": {
        "collapsed": false
      },
      "outputs": [],
      "source": [
        "def plot_specgram(waveform, sample_rate, title=\"Spectrogram\", xlim=None):\n    waveform = waveform.numpy()\n\n    num_channels, _ = waveform.shape\n\n    figure, axes = plt.subplots(num_channels, 1)\n    if num_channels == 1:\n        axes = [axes]\n    for c in range(num_channels):\n        axes[c].specgram(waveform[c], Fs=sample_rate)\n        if num_channels > 1:\n            axes[c].set_ylabel(f\"Channel {c+1}\")\n        if xlim:\n            axes[c].set_xlim(xlim)\n    figure.suptitle(title)"
      ]
    },
    {
      "cell_type": "markdown",
      "metadata": {},
      "source": [
        "### Original\n\n\n"
      ]
    },
    {
      "cell_type": "code",
      "execution_count": null,
      "metadata": {
        "collapsed": false
      },
      "outputs": [],
      "source": [
        "plot_waveform(waveform1.T, sample_rate, title=\"Original\", xlim=(-0.1, 3.2))\nplot_specgram(waveform1.T, sample_rate, title=\"Original\", xlim=(0, 3.04))\nAudio(waveform1.T, rate=sample_rate)"
      ]
    },
    {
      "cell_type": "markdown",
      "metadata": {},
      "source": [
        "### Effects applied\n\n\n"
      ]
    },
    {
      "cell_type": "code",
      "execution_count": null,
      "metadata": {
        "collapsed": false
      },
      "outputs": [],
      "source": [
        "plot_waveform(waveform2.T, sample_rate, title=\"Effects Applied\", xlim=(-0.1, 3.2))\nplot_specgram(waveform2.T, sample_rate, title=\"Effects Applied\", xlim=(0, 3.04))\nAudio(waveform2.T, rate=sample_rate)"
      ]
    },
    {
      "cell_type": "markdown",
      "metadata": {},
      "source": [
        "## Simulating room reverberation\n\n[Convolution\nreverb](https://en.wikipedia.org/wiki/Convolution_reverb)_ is a\ntechnique that's used to make clean audio sound as though it has been\nproduced in a different environment.\n\nUsing Room Impulse Response (RIR), for instance, we can make clean speech\nsound as though it has been uttered in a conference room.\n\nFor this process, we need RIR data. The following data are from the VOiCES\ndataset, but you can record your own \u2014 just turn on your microphone\nand clap your hands.\n\n\n"
      ]
    },
    {
      "cell_type": "code",
      "execution_count": null,
      "metadata": {
        "collapsed": false
      },
      "outputs": [],
      "source": [
        "rir_raw, sample_rate = torchaudio.load(SAMPLE_RIR)\nplot_waveform(rir_raw, sample_rate, title=\"Room Impulse Response (raw)\")\nplot_specgram(rir_raw, sample_rate, title=\"Room Impulse Response (raw)\")\nAudio(rir_raw, rate=sample_rate)"
      ]
    },
    {
      "cell_type": "markdown",
      "metadata": {},
      "source": [
        "First, we need to clean up the RIR. We extract the main impulse and normalize\nit by its power.\n\n\n"
      ]
    },
    {
      "cell_type": "code",
      "execution_count": null,
      "metadata": {
        "collapsed": false
      },
      "outputs": [],
      "source": [
        "rir = rir_raw[:, int(sample_rate * 1.01) : int(sample_rate * 1.3)]\nrir = rir / torch.linalg.vector_norm(rir, ord=2)\n\nplot_waveform(rir, sample_rate, title=\"Room Impulse Response\")"
      ]
    },
    {
      "cell_type": "markdown",
      "metadata": {},
      "source": [
        "Then, using :py:func:`torchaudio.functional.fftconvolve`,\nwe convolve the speech signal with the RIR.\n\n\n"
      ]
    },
    {
      "cell_type": "code",
      "execution_count": null,
      "metadata": {
        "collapsed": false
      },
      "outputs": [],
      "source": [
        "speech, _ = torchaudio.load(SAMPLE_SPEECH)\naugmented = F.fftconvolve(speech, rir)"
      ]
    },
    {
      "cell_type": "markdown",
      "metadata": {},
      "source": [
        "### Original\n\n\n"
      ]
    },
    {
      "cell_type": "code",
      "execution_count": null,
      "metadata": {
        "collapsed": false
      },
      "outputs": [],
      "source": [
        "plot_waveform(speech, sample_rate, title=\"Original\")\nplot_specgram(speech, sample_rate, title=\"Original\")\nAudio(speech, rate=sample_rate)"
      ]
    },
    {
      "cell_type": "markdown",
      "metadata": {},
      "source": [
        "### RIR applied\n\n\n"
      ]
    },
    {
      "cell_type": "code",
      "execution_count": null,
      "metadata": {
        "collapsed": false
      },
      "outputs": [],
      "source": [
        "plot_waveform(augmented, sample_rate, title=\"RIR Applied\")\nplot_specgram(augmented, sample_rate, title=\"RIR Applied\")\nAudio(augmented, rate=sample_rate)"
      ]
    },
    {
      "cell_type": "markdown",
      "metadata": {},
      "source": [
        "## Adding background noise\n\nTo introduce background noise to audio data, we can add a noise Tensor to\nthe Tensor representing the audio data according to some desired\nsignal-to-noise ratio (SNR)\n[[wikipedia](https://en.wikipedia.org/wiki/Signal-to-noise_ratio)_],\nwhich determines the intensity of the audio data relative to that of the noise\nin the output.\n\n$$ \\\\mathrm{SNR} = \\\\frac{P_{signal}}{P_{noise}} $$\n\n$$ \\\\mathrm{SNR_{dB}} = 10 \\\\log _{{10}} \\\\mathrm {SNR} $$\n\nTo add noise to audio data per SNRs, we\nuse :py:func:`torchaudio.functional.add_noise`.\n\n"
      ]
    },
    {
      "cell_type": "code",
      "execution_count": null,
      "metadata": {
        "collapsed": false
      },
      "outputs": [],
      "source": [
        "speech, _ = torchaudio.load(SAMPLE_SPEECH)\nnoise, _ = torchaudio.load(SAMPLE_NOISE)\nnoise = noise[:, : speech.shape[1]]\n\nsnr_dbs = torch.tensor([20, 10, 3])\nnoisy_speeches = F.add_noise(speech, noise, snr_dbs)"
      ]
    },
    {
      "cell_type": "markdown",
      "metadata": {},
      "source": [
        "### Background noise\n\n\n"
      ]
    },
    {
      "cell_type": "code",
      "execution_count": null,
      "metadata": {
        "collapsed": false
      },
      "outputs": [],
      "source": [
        "plot_waveform(noise, sample_rate, title=\"Background noise\")\nplot_specgram(noise, sample_rate, title=\"Background noise\")\nAudio(noise, rate=sample_rate)"
      ]
    },
    {
      "cell_type": "markdown",
      "metadata": {},
      "source": [
        "### SNR 20 dB\n\n\n"
      ]
    },
    {
      "cell_type": "code",
      "execution_count": null,
      "metadata": {
        "collapsed": false
      },
      "outputs": [],
      "source": [
        "snr_db, noisy_speech = snr_dbs[0], noisy_speeches[0:1]\nplot_waveform(noisy_speech, sample_rate, title=f\"SNR: {snr_db} [dB]\")\nplot_specgram(noisy_speech, sample_rate, title=f\"SNR: {snr_db} [dB]\")\nAudio(noisy_speech, rate=sample_rate)"
      ]
    },
    {
      "cell_type": "markdown",
      "metadata": {},
      "source": [
        "### SNR 10 dB\n\n\n"
      ]
    },
    {
      "cell_type": "code",
      "execution_count": null,
      "metadata": {
        "collapsed": false
      },
      "outputs": [],
      "source": [
        "snr_db, noisy_speech = snr_dbs[1], noisy_speeches[1:2]\nplot_waveform(noisy_speech, sample_rate, title=f\"SNR: {snr_db} [dB]\")\nplot_specgram(noisy_speech, sample_rate, title=f\"SNR: {snr_db} [dB]\")\nAudio(noisy_speech, rate=sample_rate)"
      ]
    },
    {
      "cell_type": "markdown",
      "metadata": {},
      "source": [
        "### SNR 3 dB\n\n\n"
      ]
    },
    {
      "cell_type": "code",
      "execution_count": null,
      "metadata": {
        "collapsed": false
      },
      "outputs": [],
      "source": [
        "snr_db, noisy_speech = snr_dbs[2], noisy_speeches[2:3]\nplot_waveform(noisy_speech, sample_rate, title=f\"SNR: {snr_db} [dB]\")\nplot_specgram(noisy_speech, sample_rate, title=f\"SNR: {snr_db} [dB]\")\nAudio(noisy_speech, rate=sample_rate)"
      ]
    },
    {
      "cell_type": "markdown",
      "metadata": {},
      "source": [
        "## Applying codec to Tensor object\n\n:py:class:`torchaudio.io.AudioEffector` can also apply codecs to\na Tensor object.\n\n\n"
      ]
    },
    {
      "cell_type": "code",
      "execution_count": null,
      "metadata": {
        "collapsed": false
      },
      "outputs": [],
      "source": [
        "waveform, sample_rate = torchaudio.load(SAMPLE_SPEECH, channels_first=False)\n\n\ndef apply_codec(waveform, sample_rate, format, encoder=None):\n    encoder = torchaudio.io.AudioEffector(format=format, encoder=encoder)\n    return encoder.apply(waveform, sample_rate)"
      ]
    },
    {
      "cell_type": "markdown",
      "metadata": {},
      "source": [
        "### Original\n\n\n"
      ]
    },
    {
      "cell_type": "code",
      "execution_count": null,
      "metadata": {
        "collapsed": false
      },
      "outputs": [],
      "source": [
        "plot_waveform(waveform.T, sample_rate, title=\"Original\")\nplot_specgram(waveform.T, sample_rate, title=\"Original\")\nAudio(waveform.T, rate=sample_rate)"
      ]
    },
    {
      "cell_type": "markdown",
      "metadata": {},
      "source": [
        "### 8 bit mu-law\n\n\n"
      ]
    },
    {
      "cell_type": "code",
      "execution_count": null,
      "metadata": {
        "collapsed": false
      },
      "outputs": [],
      "source": [
        "mulaw = apply_codec(waveform, sample_rate, \"wav\", encoder=\"pcm_mulaw\")\nplot_waveform(mulaw.T, sample_rate, title=\"8 bit mu-law\")\nplot_specgram(mulaw.T, sample_rate, title=\"8 bit mu-law\")\nAudio(mulaw.T, rate=sample_rate)"
      ]
    },
    {
      "cell_type": "markdown",
      "metadata": {},
      "source": [
        "### G.722\n\n\n"
      ]
    },
    {
      "cell_type": "code",
      "execution_count": null,
      "metadata": {
        "collapsed": false
      },
      "outputs": [],
      "source": [
        "g722 = apply_codec(waveform, sample_rate, \"g722\")\nplot_waveform(g722.T, sample_rate, title=\"G.722\")\nplot_specgram(g722.T, sample_rate, title=\"G.722\")\nAudio(g722.T, rate=sample_rate)"
      ]
    },
    {
      "cell_type": "markdown",
      "metadata": {},
      "source": [
        "### Vorbis\n\n\n"
      ]
    },
    {
      "cell_type": "code",
      "execution_count": null,
      "metadata": {
        "collapsed": false
      },
      "outputs": [],
      "source": [
        "vorbis = apply_codec(waveform, sample_rate, \"ogg\", encoder=\"vorbis\")\nplot_waveform(vorbis.T, sample_rate, title=\"Vorbis\")\nplot_specgram(vorbis.T, sample_rate, title=\"Vorbis\")\nAudio(vorbis.T, rate=sample_rate)"
      ]
    },
    {
      "cell_type": "markdown",
      "metadata": {},
      "source": [
        "## Simulating a phone recoding\n\nCombining the previous techniques, we can simulate audio that sounds\nlike a person talking over a phone in a echoey room with people talking\nin the background.\n\n\n"
      ]
    },
    {
      "cell_type": "code",
      "execution_count": null,
      "metadata": {
        "collapsed": false
      },
      "outputs": [],
      "source": [
        "sample_rate = 16000\noriginal_speech, sample_rate = torchaudio.load(SAMPLE_SPEECH)\n\nplot_specgram(original_speech, sample_rate, title=\"Original\")\n\n# Apply RIR\nrir_applied = F.fftconvolve(speech, rir)\n\nplot_specgram(rir_applied, sample_rate, title=\"RIR Applied\")\n\n# Add background noise\n# Because the noise is recorded in the actual environment, we consider that\n# the noise contains the acoustic feature of the environment. Therefore, we add\n# the noise after RIR application.\nnoise, _ = torchaudio.load(SAMPLE_NOISE)\nnoise = noise[:, : rir_applied.shape[1]]\n\nsnr_db = torch.tensor([8])\nbg_added = F.add_noise(rir_applied, noise, snr_db)\n\nplot_specgram(bg_added, sample_rate, title=\"BG noise added\")\n\n# Apply filtering and change sample rate\neffect = \",\".join(\n    [\n        \"lowpass=frequency=4000:poles=1\",\n        \"compand=attacks=0.02:decays=0.05:points=-60/-60|-30/-10|-20/-8|-5/-8|-2/-8:gain=-8:volume=-7:delay=0.05\",\n    ]\n)\n\nfiltered = apply_effect(bg_added.T, sample_rate, effect)\nsample_rate2 = 8000\n\nplot_specgram(filtered.T, sample_rate2, title=\"Filtered\")\n\n# Apply telephony codec\ncodec_applied = apply_codec(filtered, sample_rate2, \"g722\")\nplot_specgram(codec_applied.T, sample_rate2, title=\"G.722 Codec Applied\")"
      ]
    },
    {
      "cell_type": "markdown",
      "metadata": {},
      "source": [
        "### Original speech\n\n\n"
      ]
    },
    {
      "cell_type": "code",
      "execution_count": null,
      "metadata": {
        "collapsed": false
      },
      "outputs": [],
      "source": [
        "Audio(original_speech, rate=sample_rate)"
      ]
    },
    {
      "cell_type": "markdown",
      "metadata": {},
      "source": [
        "### RIR applied\n\n\n"
      ]
    },
    {
      "cell_type": "code",
      "execution_count": null,
      "metadata": {
        "collapsed": false
      },
      "outputs": [],
      "source": [
        "Audio(rir_applied, rate=sample_rate)"
      ]
    },
    {
      "cell_type": "markdown",
      "metadata": {},
      "source": [
        "### Background noise added\n\n\n"
      ]
    },
    {
      "cell_type": "code",
      "execution_count": null,
      "metadata": {
        "collapsed": false
      },
      "outputs": [],
      "source": [
        "Audio(bg_added, rate=sample_rate)"
      ]
    },
    {
      "cell_type": "markdown",
      "metadata": {},
      "source": [
        "### Filtered\n\n\n"
      ]
    },
    {
      "cell_type": "code",
      "execution_count": null,
      "metadata": {
        "collapsed": false
      },
      "outputs": [],
      "source": [
        "Audio(filtered.T, rate=sample_rate2)"
      ]
    },
    {
      "cell_type": "markdown",
      "metadata": {},
      "source": [
        "### Codec applied\n\n\n"
      ]
    },
    {
      "cell_type": "code",
      "execution_count": null,
      "metadata": {
        "collapsed": false
      },
      "outputs": [],
      "source": [
        "Audio(codec_applied.T, rate=sample_rate2)"
      ]
    }
  ],
  "metadata": {
    "kernelspec": {
      "display_name": "Python 3",
      "language": "python",
      "name": "python3"
    },
    "language_info": {
      "codemirror_mode": {
        "name": "ipython",
        "version": 3
      },
      "file_extension": ".py",
      "mimetype": "text/x-python",
      "name": "python",
      "nbconvert_exporter": "python",
      "pygments_lexer": "ipython3",
      "version": "3.10.14"
    }
  },
  "nbformat": 4,
  "nbformat_minor": 0
}