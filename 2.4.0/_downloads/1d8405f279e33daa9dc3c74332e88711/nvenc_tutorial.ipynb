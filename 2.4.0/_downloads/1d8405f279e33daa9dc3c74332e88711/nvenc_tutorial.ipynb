{
  "cells": [
    {
      "cell_type": "markdown",
      "metadata": {},
      "source": [
        "\n# Accelerated video encoding with NVENC\n\n\n**Author**: [Moto Hira](moto@meta.com)_\n\nThis tutorial shows how to use NVIDIA\u2019s hardware video encoder (NVENC)\nwith TorchAudio, and how it improves the performance of video encoding.\n"
      ]
    },
    {
      "cell_type": "markdown",
      "metadata": {},
      "source": [
        "<div class=\"alert alert-info\"><h4>Note</h4><p>This tutorial requires FFmpeg libraries compiled with HW\n   acceleration enabled.\n\n   Please refer to\n   `Enabling GPU video decoder/encoder <enabling_hw_decoder>`\n   for how to build FFmpeg with HW acceleration.</p></div>\n\n<div class=\"alert alert-info\"><h4>Note</h4><p>Most modern GPUs have both HW decoder and encoder, but some\n   highend GPUs like A100 and H100 do not have HW encoder.\n   Please refer to the following for the availability and\n   format coverage.\n   https://developer.nvidia.com/video-encode-and-decode-gpu-support-matrix-new\n\n   Attempting to use HW encoder on these GPUs fails with an error\n   message like ``Generic error in an external library``.\n   You can enable debug log with\n   :py:func:`torchaudio.utils.ffmpeg_utils.set_log_level` to see more\n   detailed error messages issued along the way.</p></div>\n\n\n"
      ]
    },
    {
      "cell_type": "code",
      "execution_count": null,
      "metadata": {
        "collapsed": false
      },
      "outputs": [],
      "source": [
        "import torch\nimport torchaudio\n\nprint(torch.__version__)\nprint(torchaudio.__version__)\n\nimport io\nimport time\n\nimport matplotlib.pyplot as plt\nfrom IPython.display import Video\nfrom torchaudio.io import StreamReader, StreamWriter"
      ]
    },
    {
      "cell_type": "markdown",
      "metadata": {},
      "source": [
        "## Check the prerequisites\n\nFirst, we check that TorchAudio correctly detects FFmpeg libraries\nthat support HW decoder/encoder.\n\n\n"
      ]
    },
    {
      "cell_type": "code",
      "execution_count": null,
      "metadata": {
        "collapsed": false
      },
      "outputs": [],
      "source": [
        "from torchaudio.utils import ffmpeg_utils"
      ]
    },
    {
      "cell_type": "code",
      "execution_count": null,
      "metadata": {
        "collapsed": false
      },
      "outputs": [],
      "source": [
        "print(\"FFmpeg Library versions:\")\nfor k, ver in ffmpeg_utils.get_versions().items():\n    print(f\"  {k}:\\t{'.'.join(str(v) for v in ver)}\")"
      ]
    },
    {
      "cell_type": "code",
      "execution_count": null,
      "metadata": {
        "collapsed": false
      },
      "outputs": [],
      "source": [
        "print(\"Available NVENC Encoders:\")\nfor k in ffmpeg_utils.get_video_encoders().keys():\n    if \"nvenc\" in k:\n        print(f\" - {k}\")"
      ]
    },
    {
      "cell_type": "code",
      "execution_count": null,
      "metadata": {
        "collapsed": false
      },
      "outputs": [],
      "source": [
        "print(\"Avaialbe GPU:\")\nprint(torch.cuda.get_device_properties(0))"
      ]
    },
    {
      "cell_type": "markdown",
      "metadata": {},
      "source": [
        "We use the following helper function to generate test frame data.\nFor the detail of synthetic video generation please refer to\n`StreamReader Advanced Usage <lavfi>`.\n\n"
      ]
    },
    {
      "cell_type": "code",
      "execution_count": null,
      "metadata": {
        "collapsed": false
      },
      "outputs": [],
      "source": [
        "def get_data(height, width, format=\"yuv444p\", frame_rate=30000 / 1001, duration=4):\n    src = f\"testsrc2=rate={frame_rate}:size={width}x{height}:duration={duration}\"\n    s = StreamReader(src=src, format=\"lavfi\")\n    s.add_basic_video_stream(-1, format=format)\n    s.process_all_packets()\n    (video,) = s.pop_chunks()\n    return video"
      ]
    },
    {
      "cell_type": "markdown",
      "metadata": {},
      "source": [
        "## Encoding videos with NVENC\n\nTo use HW video encoder, you need to specify the HW encoder when\ndefining the output video stream by providing ``encoder`` option to\n:py:meth:`~torchaudio.io.StreamWriter.add_video_stream`.\n\n\n"
      ]
    },
    {
      "cell_type": "code",
      "execution_count": null,
      "metadata": {
        "collapsed": false
      },
      "outputs": [],
      "source": [
        "pict_config = {\n    \"height\": 360,\n    \"width\": 640,\n    \"frame_rate\": 30000 / 1001,\n    \"format\": \"yuv444p\",\n}\n\nframe_data = get_data(**pict_config)"
      ]
    },
    {
      "cell_type": "code",
      "execution_count": null,
      "metadata": {
        "collapsed": false
      },
      "outputs": [],
      "source": [
        "w = StreamWriter(io.BytesIO(), format=\"mp4\")\nw.add_video_stream(**pict_config, encoder=\"h264_nvenc\", encoder_format=\"yuv444p\")\nwith w.open():\n    w.write_video_chunk(0, frame_data)"
      ]
    },
    {
      "cell_type": "markdown",
      "metadata": {},
      "source": [
        "Similar to the HW decoder, by default, the encoder expects the frame\ndata to be on CPU memory. To send data from CUDA memory, you need to\nspecify ``hw_accel`` option.\n\n\n"
      ]
    },
    {
      "cell_type": "code",
      "execution_count": null,
      "metadata": {
        "collapsed": false
      },
      "outputs": [],
      "source": [
        "buffer = io.BytesIO()\nw = StreamWriter(buffer, format=\"mp4\")\nw.add_video_stream(**pict_config, encoder=\"h264_nvenc\", encoder_format=\"yuv444p\", hw_accel=\"cuda:0\")\nwith w.open():\n    w.write_video_chunk(0, frame_data.to(torch.device(\"cuda:0\")))\nbuffer.seek(0)\nvideo_cuda = buffer.read()"
      ]
    },
    {
      "cell_type": "code",
      "execution_count": null,
      "metadata": {
        "collapsed": false
      },
      "outputs": [],
      "source": [
        "Video(video_cuda, embed=True, mimetype=\"video/mp4\")"
      ]
    },
    {
      "cell_type": "markdown",
      "metadata": {},
      "source": [
        "## Benchmark NVENC with StreamWriter\n\nNow we compare the performance of software encoder and hardware\nencoder.\n\nSimilar to the benchmark in NVDEC, we process the videos of different\nresolution, and measure the time it takes to encode them.\n\nWe also measure the size of resulting video file.\n\n"
      ]
    },
    {
      "cell_type": "markdown",
      "metadata": {},
      "source": [
        "The following function encodes the given frames and measure the time\nit takes to encode and the size of the resulting video data.\n\n\n"
      ]
    },
    {
      "cell_type": "code",
      "execution_count": null,
      "metadata": {
        "collapsed": false
      },
      "outputs": [],
      "source": [
        "def test_encode(data, encoder, width, height, hw_accel=None, **config):\n    assert data.is_cuda\n\n    buffer = io.BytesIO()\n    s = StreamWriter(buffer, format=\"mp4\")\n    s.add_video_stream(encoder=encoder, width=width, height=height, hw_accel=hw_accel, **config)\n    with s.open():\n        t0 = time.monotonic()\n        if hw_accel is None:\n            data = data.to(\"cpu\")\n        s.write_video_chunk(0, data)\n        elapsed = time.monotonic() - t0\n    size = buffer.tell()\n    fps = len(data) / elapsed\n    print(f\" - Processed {len(data)} frames in {elapsed:.2f} seconds. ({fps:.2f} fps)\")\n    print(f\" - Encoded data size: {size} bytes\")\n    return elapsed, size"
      ]
    },
    {
      "cell_type": "markdown",
      "metadata": {},
      "source": [
        "We conduct the tests for the following configurations\n\n- Software encoder with the number of threads 1, 4, 8\n- Hardware encoder with and without ``hw_accel`` option.\n\n\n"
      ]
    },
    {
      "cell_type": "code",
      "execution_count": null,
      "metadata": {
        "collapsed": false
      },
      "outputs": [],
      "source": [
        "def run_tests(height, width, duration=4):\n    # Generate the test data\n    print(f\"Testing resolution: {width}x{height}\")\n    pict_config = {\n        \"height\": height,\n        \"width\": width,\n        \"frame_rate\": 30000 / 1001,\n        \"format\": \"yuv444p\",\n    }\n\n    data = get_data(**pict_config, duration=duration)\n    data = data.to(torch.device(\"cuda:0\"))\n\n    times = []\n    sizes = []\n\n    # Test software encoding\n    encoder_config = {\n        \"encoder\": \"libx264\",\n        \"encoder_format\": \"yuv444p\",\n    }\n    for i, num_threads in enumerate([1, 4, 8]):\n        print(f\"* Software Encoder (num_threads={num_threads})\")\n        time_, size = test_encode(\n            data,\n            encoder_option={\"threads\": str(num_threads)},\n            **pict_config,\n            **encoder_config,\n        )\n        times.append(time_)\n        if i == 0:\n            sizes.append(size)\n\n    # Test hardware encoding\n    encoder_config = {\n        \"encoder\": \"h264_nvenc\",\n        \"encoder_format\": \"yuv444p\",\n        \"encoder_option\": {\"gpu\": \"0\"},\n    }\n    for i, hw_accel in enumerate([None, \"cuda\"]):\n        print(f\"* Hardware Encoder {'(CUDA frames)' if hw_accel else ''}\")\n        time_, size = test_encode(\n            data,\n            **pict_config,\n            **encoder_config,\n            hw_accel=hw_accel,\n        )\n        times.append(time_)\n        if i == 0:\n            sizes.append(size)\n    return times, sizes"
      ]
    },
    {
      "cell_type": "markdown",
      "metadata": {},
      "source": [
        "And we change the resolution of videos to see how these measurement\nchange.\n\n## 360P\n\n\n"
      ]
    },
    {
      "cell_type": "code",
      "execution_count": null,
      "metadata": {
        "collapsed": false
      },
      "outputs": [],
      "source": [
        "time_360, size_360 = run_tests(360, 640)"
      ]
    },
    {
      "cell_type": "markdown",
      "metadata": {},
      "source": [
        "## 720P\n\n\n"
      ]
    },
    {
      "cell_type": "code",
      "execution_count": null,
      "metadata": {
        "collapsed": false
      },
      "outputs": [],
      "source": [
        "time_720, size_720 = run_tests(720, 1280)"
      ]
    },
    {
      "cell_type": "markdown",
      "metadata": {},
      "source": [
        "## 1080P\n\n\n"
      ]
    },
    {
      "cell_type": "code",
      "execution_count": null,
      "metadata": {
        "collapsed": false
      },
      "outputs": [],
      "source": [
        "time_1080, size_1080 = run_tests(1080, 1920)"
      ]
    },
    {
      "cell_type": "markdown",
      "metadata": {},
      "source": [
        "Now we plot the result.\n\n\n"
      ]
    },
    {
      "cell_type": "code",
      "execution_count": null,
      "metadata": {
        "collapsed": false
      },
      "outputs": [],
      "source": [
        "def plot():\n    fig, axes = plt.subplots(2, 1, sharex=True, figsize=[9.6, 7.2])\n\n    for items in zip(time_360, time_720, time_1080, \"ov^X+\"):\n        axes[0].plot(items[:-1], marker=items[-1])\n    axes[0].grid(axis=\"both\")\n    axes[0].set_xticks([0, 1, 2], [\"360p\", \"720p\", \"1080p\"], visible=True)\n    axes[0].tick_params(labeltop=False)\n    axes[0].legend(\n        [\n            \"Software Encoding (threads=1)\",\n            \"Software Encoding (threads=4)\",\n            \"Software Encoding (threads=8)\",\n            \"Hardware Encoding (CPU Tensor)\",\n            \"Hardware Encoding (CUDA Tensor)\",\n        ]\n    )\n    axes[0].set_title(\"Time to encode videos with different resolutions\")\n    axes[0].set_ylabel(\"Time [s]\")\n\n    for items in zip(size_360, size_720, size_1080, \"v^\"):\n        axes[1].plot(items[:-1], marker=items[-1])\n    axes[1].grid(axis=\"both\")\n    axes[1].set_xticks([0, 1, 2], [\"360p\", \"720p\", \"1080p\"])\n    axes[1].set_ylabel(\"The encoded size [bytes]\")\n    axes[1].set_title(\"The size of encoded videos\")\n    axes[1].legend(\n        [\n            \"Software Encoding\",\n            \"Hardware Encoding\",\n        ]\n    )\n\n    plt.tight_layout()\n\n\nplot()"
      ]
    },
    {
      "cell_type": "markdown",
      "metadata": {},
      "source": [
        "## Result\n\nWe observe couple of things;\n\n- The time to encode video grows as the resolution becomes larger.\n- In the case of software encoding, increasing the number of threads\n  helps reduce the decoding time.\n- The gain from extra threads diminishes around 8.\n- Hardware encoding is faster than software encoding in general.\n- Using ``hw_accel`` does not improve the speed of encoding itself\n  as much.\n- The size of the resulting videos grow as the resolution becomes\n  larger.\n- Hardware encoder produces smaller video file at larger resolution.\n\nThe last point is somewhat strange to the author (who is not an\nexpert in production of videos.)\nIt is often said that hardware decoders produce larger video\ncompared to software encoders.\nSome says that software encoders allow fine-grained control over\nencoding configuration, so the resulting video is more optimal.\nMeanwhile, hardware encoders are optimized for performance, thus\ndoes not provide as much control over quality and binary size.\n\n\n"
      ]
    },
    {
      "cell_type": "markdown",
      "metadata": {},
      "source": [
        "## Quality Spotcheck\n\nSo, how are the quality of videos produced with hardware encoders?\nA quick spot check of high resolution videos uncovers that they have\nmore noticeable artifacts on higher resolution.\nWhich might be an explanation of the smaller binary size. (meaning,\nit is not allocating enough bits to produce quality output.)\n\nThe following images are raw frames of videos encoded with hardware\nencoders.\n\n\n"
      ]
    },
    {
      "cell_type": "markdown",
      "metadata": {},
      "source": [
        "## 360P\n\n.. raw:: html\n\n   <img style=\"max-width: 100%\" src=\"https://download.pytorch.org/torchaudio/tutorial-assets/nvenc_testsrc2_360_097.png\" alt=\"NVENC sample 360P\">\n\n"
      ]
    },
    {
      "cell_type": "markdown",
      "metadata": {},
      "source": [
        "## 720P\n\n.. raw:: html\n\n   <img style=\"max-width: 100%\" src=\"https://download.pytorch.org/torchaudio/tutorial-assets/nvenc_testsrc2_720_097.png\" alt=\"NVENC sample 720P\">\n\n"
      ]
    },
    {
      "cell_type": "markdown",
      "metadata": {},
      "source": [
        "## 1080P\n\n.. raw:: html\n\n   <img style=\"max-width: 100%\" src=\"https://download.pytorch.org/torchaudio/tutorial-assets/nvenc_testsrc2_1080_097.png\" alt=\"NVENC sample 1080P\">\n\n"
      ]
    },
    {
      "cell_type": "markdown",
      "metadata": {},
      "source": [
        "We can see that there are more artifacts at higher resolution, which\nare noticeable.\n\nPerhaps one might be able to reduce these using ``encoder_options``\narguments.\nWe did not try, but if you try that and find a better quality\nsetting, feel free to let us know. ;)\n\n"
      ]
    },
    {
      "cell_type": "markdown",
      "metadata": {},
      "source": [
        "Tag: :obj:`torchaudio.io`\n\n"
      ]
    }
  ],
  "metadata": {
    "kernelspec": {
      "display_name": "Python 3",
      "language": "python",
      "name": "python3"
    },
    "language_info": {
      "codemirror_mode": {
        "name": "ipython",
        "version": 3
      },
      "file_extension": ".py",
      "mimetype": "text/x-python",
      "name": "python",
      "nbconvert_exporter": "python",
      "pygments_lexer": "ipython3",
      "version": "3.10.14"
    }
  },
  "nbformat": 4,
  "nbformat_minor": 0
}