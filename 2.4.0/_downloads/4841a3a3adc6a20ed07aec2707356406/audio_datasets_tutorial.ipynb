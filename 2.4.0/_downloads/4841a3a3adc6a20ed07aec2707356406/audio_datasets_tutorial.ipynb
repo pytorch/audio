{
  "cells": [
    {
      "cell_type": "markdown",
      "metadata": {},
      "source": [
        "\n# Audio Datasets\n\n**Author**: [Moto Hira](moto@meta.com)_\n\n``torchaudio`` provides easy access to common, publicly accessible\ndatasets. Please refer to the official documentation for the list of\navailable datasets.\n"
      ]
    },
    {
      "cell_type": "code",
      "execution_count": null,
      "metadata": {
        "collapsed": false
      },
      "outputs": [],
      "source": [
        "import torch\nimport torchaudio\n\nprint(torch.__version__)\nprint(torchaudio.__version__)"
      ]
    },
    {
      "cell_type": "code",
      "execution_count": null,
      "metadata": {
        "collapsed": false
      },
      "outputs": [],
      "source": [
        "import os\n\nimport IPython\n\nimport matplotlib.pyplot as plt\n\n\n_SAMPLE_DIR = \"_assets\"\nYESNO_DATASET_PATH = os.path.join(_SAMPLE_DIR, \"yes_no\")\nos.makedirs(YESNO_DATASET_PATH, exist_ok=True)\n\n\ndef plot_specgram(waveform, sample_rate, title=\"Spectrogram\"):\n    waveform = waveform.numpy()\n\n    figure, ax = plt.subplots()\n    ax.specgram(waveform[0], Fs=sample_rate)\n    figure.suptitle(title)\n    figure.tight_layout()"
      ]
    },
    {
      "cell_type": "markdown",
      "metadata": {},
      "source": [
        "Here, we show how to use the\n:py:class:`torchaudio.datasets.YESNO` dataset.\n\n\n"
      ]
    },
    {
      "cell_type": "code",
      "execution_count": null,
      "metadata": {
        "collapsed": false
      },
      "outputs": [],
      "source": [
        "dataset = torchaudio.datasets.YESNO(YESNO_DATASET_PATH, download=True)"
      ]
    },
    {
      "cell_type": "code",
      "execution_count": null,
      "metadata": {
        "collapsed": false
      },
      "outputs": [],
      "source": [
        "i = 1\nwaveform, sample_rate, label = dataset[i]\nplot_specgram(waveform, sample_rate, title=f\"Sample {i}: {label}\")\nIPython.display.Audio(waveform, rate=sample_rate)"
      ]
    },
    {
      "cell_type": "code",
      "execution_count": null,
      "metadata": {
        "collapsed": false
      },
      "outputs": [],
      "source": [
        "i = 3\nwaveform, sample_rate, label = dataset[i]\nplot_specgram(waveform, sample_rate, title=f\"Sample {i}: {label}\")\nIPython.display.Audio(waveform, rate=sample_rate)"
      ]
    },
    {
      "cell_type": "code",
      "execution_count": null,
      "metadata": {
        "collapsed": false
      },
      "outputs": [],
      "source": [
        "i = 5\nwaveform, sample_rate, label = dataset[i]\nplot_specgram(waveform, sample_rate, title=f\"Sample {i}: {label}\")\nIPython.display.Audio(waveform, rate=sample_rate)"
      ]
    }
  ],
  "metadata": {
    "kernelspec": {
      "display_name": "Python 3",
      "language": "python",
      "name": "python3"
    },
    "language_info": {
      "codemirror_mode": {
        "name": "ipython",
        "version": 3
      },
      "file_extension": ".py",
      "mimetype": "text/x-python",
      "name": "python",
      "nbconvert_exporter": "python",
      "pygments_lexer": "ipython3",
      "version": "3.10.14"
    }
  },
  "nbformat": 4,
  "nbformat_minor": 0
}