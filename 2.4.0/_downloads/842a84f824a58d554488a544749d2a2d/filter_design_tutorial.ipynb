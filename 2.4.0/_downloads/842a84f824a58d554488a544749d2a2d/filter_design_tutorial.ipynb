{
  "cells": [
    {
      "cell_type": "markdown",
      "metadata": {},
      "source": [
        "\n# Filter design tutorial\n\n**Author**: [Moto Hira](moto@meta.com)_\n\nThis tutorial shows how to create basic digital filters\n(impulse responses) and their properties.\n\nWe look into low-pass, high-pass and band-pass filters based on\nwindowed-sinc kernels, and frequency sampling method.\n\n<div class=\"alert alert-danger\"><h4>Warning</h4><p>This tutorial requires prototype DSP features, which are\n   available in nightly builds.\n\n   Please refer to https://pytorch.org/get-started/locally\n   for instructions for installing a nightly build.</p></div>\n"
      ]
    },
    {
      "cell_type": "code",
      "execution_count": null,
      "metadata": {
        "collapsed": false
      },
      "outputs": [],
      "source": [
        "import torch\nimport torchaudio\n\nprint(torch.__version__)\nprint(torchaudio.__version__)\n\nimport matplotlib.pyplot as plt"
      ]
    },
    {
      "cell_type": "code",
      "execution_count": null,
      "metadata": {
        "collapsed": false
      },
      "outputs": [],
      "source": [
        "from torchaudio.prototype.functional import frequency_impulse_response, sinc_impulse_response"
      ]
    },
    {
      "cell_type": "markdown",
      "metadata": {},
      "source": [
        "## Windowed-Sinc Filter\n\n\n[Sinc filter](https://en.wikipedia.org/wiki/Sinc_filter) is an\nidealized filter which removes frequencies above the cutoff\nfrequency without affecting the lower frequencies.\n\nSinc filter has infinite filter width in analytical solution.\nIn numerical computation, sinc filter cannot be expressed exactly,\nso an approximation is required.\n\nWindowed-sinc finite impulse response is an approximation of sinc\nfilter. It is obtained by first evaluating sinc function for given\ncutoff frequencies, then truncating the filter skirt, and\napplying a window, such as Hamming window, to reduce the\nartifacts introduced from the truncation.\n\n:py:func:`~torchaudio.prototype.functional.sinc_impulse_response`\ngenerates windowed-sinc impulse response for given cutoff\nfrequencies.\n\n\n"
      ]
    },
    {
      "cell_type": "markdown",
      "metadata": {},
      "source": [
        "### Low-pass filter\n\n"
      ]
    },
    {
      "cell_type": "markdown",
      "metadata": {},
      "source": [
        "#### Impulse Response\n\nCreating sinc IR is as easy as passing cutoff frequency values to\n:py:func:`~torchaudio.prototype.functional.sinc_impulse_response`.\n\n\n"
      ]
    },
    {
      "cell_type": "code",
      "execution_count": null,
      "metadata": {
        "collapsed": false
      },
      "outputs": [],
      "source": [
        "cutoff = torch.linspace(0.0, 1.0, 9)\nirs = sinc_impulse_response(cutoff, window_size=513)\n\nprint(\"Cutoff shape:\", cutoff.shape)\nprint(\"Impulse response shape:\", irs.shape)"
      ]
    },
    {
      "cell_type": "markdown",
      "metadata": {},
      "source": [
        "Let's visualize the resulting impulse responses.\n\n\n"
      ]
    },
    {
      "cell_type": "code",
      "execution_count": null,
      "metadata": {
        "collapsed": false
      },
      "outputs": [],
      "source": [
        "def plot_sinc_ir(irs, cutoff):\n    num_filts, window_size = irs.shape\n    half = window_size // 2\n\n    fig, axes = plt.subplots(num_filts, 1, sharex=True, figsize=(9.6, 8))\n    t = torch.linspace(-half, half - 1, window_size)\n    for ax, ir, coff, color in zip(axes, irs, cutoff, plt.cm.tab10.colors):\n        ax.plot(t, ir, linewidth=1.2, color=color, zorder=4, label=f\"Cutoff: {coff}\")\n        ax.legend(loc=(1.05, 0.2), handletextpad=0, handlelength=0)\n        ax.grid(True)\n    fig.suptitle(\n        \"Impulse response of sinc low-pass filter for different cut-off frequencies\\n\"\n        \"(Frequencies are relative to Nyquist frequency)\"\n    )\n    axes[-1].set_xticks([i * half // 4 for i in range(-4, 5)])\n    fig.tight_layout()"
      ]
    },
    {
      "cell_type": "code",
      "execution_count": null,
      "metadata": {
        "collapsed": false
      },
      "outputs": [],
      "source": [
        "plot_sinc_ir(irs, cutoff)"
      ]
    },
    {
      "cell_type": "markdown",
      "metadata": {},
      "source": [
        "#### Frequency Response\n\nNext, let's look at the frequency responses.\nSimpy applying Fourier transform to the impulse responses will give\nthe frequency responses.\n\n\n"
      ]
    },
    {
      "cell_type": "code",
      "execution_count": null,
      "metadata": {
        "collapsed": false
      },
      "outputs": [],
      "source": [
        "frs = torch.fft.rfft(irs, n=2048, dim=1).abs()"
      ]
    },
    {
      "cell_type": "markdown",
      "metadata": {},
      "source": [
        "Let's visualize the resulting frequency responses.\n\n\n"
      ]
    },
    {
      "cell_type": "code",
      "execution_count": null,
      "metadata": {
        "collapsed": false
      },
      "outputs": [],
      "source": [
        "def plot_sinc_fr(frs, cutoff, band=False):\n    num_filts, num_fft = frs.shape\n    num_ticks = num_filts + 1 if band else num_filts\n\n    fig, axes = plt.subplots(num_filts, 1, sharex=True, sharey=True, figsize=(9.6, 8))\n    for ax, fr, coff, color in zip(axes, frs, cutoff, plt.cm.tab10.colors):\n        ax.grid(True)\n        ax.semilogy(fr, color=color, zorder=4, label=f\"Cutoff: {coff}\")\n        ax.legend(loc=(1.05, 0.2), handletextpad=0, handlelength=0).set_zorder(3)\n    axes[-1].set(\n        ylim=[None, 100],\n        yticks=[1e-9, 1e-6, 1e-3, 1],\n        xticks=torch.linspace(0, num_fft, num_ticks),\n        xticklabels=[f\"{i/(num_ticks - 1)}\" for i in range(num_ticks)],\n        xlabel=\"Frequency\",\n    )\n    fig.suptitle(\n        \"Frequency response of sinc low-pass filter for different cut-off frequencies\\n\"\n        \"(Frequencies are relative to Nyquist frequency)\"\n    )\n    fig.tight_layout()"
      ]
    },
    {
      "cell_type": "code",
      "execution_count": null,
      "metadata": {
        "collapsed": false
      },
      "outputs": [],
      "source": [
        "plot_sinc_fr(frs, cutoff)"
      ]
    },
    {
      "cell_type": "markdown",
      "metadata": {},
      "source": [
        "### High-pass filter\n\nHigh-pass filter can be obtained by subtracting low-pass\nimpulse response from the Dirac delta function.\n\nPassing ``high_pass=True`` to\n:py:func:`~torchaudio.prototype.functional.sinc_impulse_response`\nwill change the returned filter kernel to high pass filter.\n\n\n"
      ]
    },
    {
      "cell_type": "code",
      "execution_count": null,
      "metadata": {
        "collapsed": false
      },
      "outputs": [],
      "source": [
        "irs = sinc_impulse_response(cutoff, window_size=513, high_pass=True)\nfrs = torch.fft.rfft(irs, n=2048, dim=1).abs()"
      ]
    },
    {
      "cell_type": "markdown",
      "metadata": {},
      "source": [
        "#### Impulse Response\n\n\n"
      ]
    },
    {
      "cell_type": "code",
      "execution_count": null,
      "metadata": {
        "collapsed": false
      },
      "outputs": [],
      "source": [
        "plot_sinc_ir(irs, cutoff)"
      ]
    },
    {
      "cell_type": "markdown",
      "metadata": {},
      "source": [
        "#### Frequency Response\n\n\n"
      ]
    },
    {
      "cell_type": "code",
      "execution_count": null,
      "metadata": {
        "collapsed": false
      },
      "outputs": [],
      "source": [
        "plot_sinc_fr(frs, cutoff)"
      ]
    },
    {
      "cell_type": "markdown",
      "metadata": {},
      "source": [
        "### Band-pass filter\n\nBand-pass filter can be obtained by subtracting low-pass filter for\nupper band from that of lower band.\n\n"
      ]
    },
    {
      "cell_type": "code",
      "execution_count": null,
      "metadata": {
        "collapsed": false
      },
      "outputs": [],
      "source": [
        "cutoff = torch.linspace(0.0, 1, 11)\nc_low = cutoff[:-1]\nc_high = cutoff[1:]\n\nirs = sinc_impulse_response(c_low, window_size=513) - sinc_impulse_response(c_high, window_size=513)\nfrs = torch.fft.rfft(irs, n=2048, dim=1).abs()"
      ]
    },
    {
      "cell_type": "markdown",
      "metadata": {},
      "source": [
        "#### Impulse Response\n\n\n"
      ]
    },
    {
      "cell_type": "code",
      "execution_count": null,
      "metadata": {
        "collapsed": false
      },
      "outputs": [],
      "source": [
        "coff = [f\"{l.item():.1f}, {h.item():.1f}\" for l, h in zip(c_low, c_high)]\nplot_sinc_ir(irs, coff)"
      ]
    },
    {
      "cell_type": "markdown",
      "metadata": {},
      "source": [
        "#### Frequency Response\n\n\n"
      ]
    },
    {
      "cell_type": "code",
      "execution_count": null,
      "metadata": {
        "collapsed": false
      },
      "outputs": [],
      "source": [
        "plot_sinc_fr(frs, coff, band=True)"
      ]
    },
    {
      "cell_type": "markdown",
      "metadata": {},
      "source": [
        "## Frequency Sampling\n\nThe next method we look into starts from a desired frequency response\nand obtain impulse response by applying inverse Fourier transform.\n\n:py:func:`~torchaudio.prototype.functional.frequency_impulse_response`\ntakes (unnormalized) magnitude distribution of frequencies and\nconstruct impulse response from it.\n\nNote however that the resulting impulse response does not produce the\ndesired frequency response.\n\nIn the following, we create multiple filters and compare the input\nfrequency response and the actual frequency response.\n\n\n"
      ]
    },
    {
      "cell_type": "markdown",
      "metadata": {},
      "source": [
        "### Brick-wall filter\n\nLet's start from brick-wall filter\n\n"
      ]
    },
    {
      "cell_type": "code",
      "execution_count": null,
      "metadata": {
        "collapsed": false
      },
      "outputs": [],
      "source": [
        "magnitudes = torch.concat([torch.ones((128,)), torch.zeros((128,))])\nir = frequency_impulse_response(magnitudes)\n\nprint(\"Magnitudes:\", magnitudes.shape)\nprint(\"Impulse Response:\", ir.shape)"
      ]
    },
    {
      "cell_type": "code",
      "execution_count": null,
      "metadata": {
        "collapsed": false
      },
      "outputs": [],
      "source": [
        "def plot_ir(magnitudes, ir, num_fft=2048):\n    fr = torch.fft.rfft(ir, n=num_fft, dim=0).abs()\n    ir_size = ir.size(-1)\n    half = ir_size // 2\n\n    fig, axes = plt.subplots(3, 1)\n    t = torch.linspace(-half, half - 1, ir_size)\n    axes[0].plot(t, ir)\n    axes[0].grid(True)\n    axes[0].set(title=\"Impulse Response\")\n    axes[0].set_xticks([i * half // 4 for i in range(-4, 5)])\n    t = torch.linspace(0, 1, fr.numel())\n    axes[1].plot(t, fr, label=\"Actual\")\n    axes[2].semilogy(t, fr, label=\"Actual\")\n    t = torch.linspace(0, 1, magnitudes.numel())\n    for i in range(1, 3):\n        axes[i].plot(t, magnitudes, label=\"Desired (input)\", linewidth=1.1, linestyle=\"--\")\n        axes[i].grid(True)\n    axes[1].set(title=\"Frequency Response\")\n    axes[2].set(title=\"Frequency Response (log-scale)\", xlabel=\"Frequency\")\n    axes[2].legend(loc=\"center right\")\n    fig.tight_layout()"
      ]
    },
    {
      "cell_type": "code",
      "execution_count": null,
      "metadata": {
        "collapsed": false
      },
      "outputs": [],
      "source": [
        "plot_ir(magnitudes, ir)"
      ]
    },
    {
      "cell_type": "markdown",
      "metadata": {},
      "source": [
        "Notice that there are artifacts around the transition band. This is\nmore noticeable when the window size is small.\n\n\n"
      ]
    },
    {
      "cell_type": "code",
      "execution_count": null,
      "metadata": {
        "collapsed": false
      },
      "outputs": [],
      "source": [
        "magnitudes = torch.concat([torch.ones((32,)), torch.zeros((32,))])\nir = frequency_impulse_response(magnitudes)"
      ]
    },
    {
      "cell_type": "code",
      "execution_count": null,
      "metadata": {
        "collapsed": false
      },
      "outputs": [],
      "source": [
        "plot_ir(magnitudes, ir)"
      ]
    },
    {
      "cell_type": "markdown",
      "metadata": {},
      "source": [
        "### Arbitrary shapes\n\n\n\n"
      ]
    },
    {
      "cell_type": "code",
      "execution_count": null,
      "metadata": {
        "collapsed": false
      },
      "outputs": [],
      "source": [
        "magnitudes = torch.linspace(0, 1, 64) ** 4.0\nir = frequency_impulse_response(magnitudes)"
      ]
    },
    {
      "cell_type": "code",
      "execution_count": null,
      "metadata": {
        "collapsed": false
      },
      "outputs": [],
      "source": [
        "plot_ir(magnitudes, ir)"
      ]
    },
    {
      "cell_type": "code",
      "execution_count": null,
      "metadata": {
        "collapsed": false
      },
      "outputs": [],
      "source": [
        "magnitudes = torch.sin(torch.linspace(0, 10, 64)) ** 4.0\nir = frequency_impulse_response(magnitudes)"
      ]
    },
    {
      "cell_type": "code",
      "execution_count": null,
      "metadata": {
        "collapsed": false
      },
      "outputs": [],
      "source": [
        "plot_ir(magnitudes, ir)"
      ]
    },
    {
      "cell_type": "markdown",
      "metadata": {},
      "source": [
        "## References\n\n- https://en.wikipedia.org/wiki/Sinc_filter\n- https://www.analog.com/media/en/technical-documentation/dsp-book/dsp_book_Ch16.pdf\n- https://courses.engr.illinois.edu/ece401/fa2020/slides/lec10.pdf\n- https://ccrma.stanford.edu/~jos/sasp/Windowing_Desired_Impulse_Response.html\n\n\n"
      ]
    }
  ],
  "metadata": {
    "kernelspec": {
      "display_name": "Python 3",
      "language": "python",
      "name": "python3"
    },
    "language_info": {
      "codemirror_mode": {
        "name": "ipython",
        "version": 3
      },
      "file_extension": ".py",
      "mimetype": "text/x-python",
      "name": "python",
      "nbconvert_exporter": "python",
      "pygments_lexer": "ipython3",
      "version": "3.10.14"
    }
  },
  "nbformat": 4,
  "nbformat_minor": 0
}