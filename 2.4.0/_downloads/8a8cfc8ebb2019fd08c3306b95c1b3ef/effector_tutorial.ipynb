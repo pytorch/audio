{
  "cells": [
    {
      "cell_type": "markdown",
      "metadata": {},
      "source": [
        "\n# AudioEffector Usages\n\n**Author**: [Moto Hira](moto@meta.com)_\n\nThis tutorial shows how to use :py:class:`torchaudio.io.AudioEffector` to\napply various effects and codecs to waveform tensor.\n"
      ]
    },
    {
      "cell_type": "markdown",
      "metadata": {},
      "source": [
        "<div class=\"alert alert-info\"><h4>Note</h4><p>This tutorial requires FFmpeg libraries.\n   Please refer to `FFmpeg dependency <ffmpeg_dependency>` for\n   the detail.</p></div>\n\n\n"
      ]
    },
    {
      "cell_type": "markdown",
      "metadata": {},
      "source": [
        "## Overview\n\n:py:class:`~torchaudio.io.AudioEffector` combines in-memory encoding,\ndecoding and filtering that are provided by\n:py:class:`~torchaudio.io.StreamWriter` and\n:py:class:`~torchaudio.io.StreamReader`.\n\nThe following figure illustrates the process.\n\n<img src=\"https://download.pytorch.org/torchaudio/tutorial-assets/AudioEffector.png\">\n\n\n"
      ]
    },
    {
      "cell_type": "code",
      "execution_count": null,
      "metadata": {
        "collapsed": false
      },
      "outputs": [],
      "source": [
        "import torch\nimport torchaudio\n\nprint(torch.__version__)\nprint(torchaudio.__version__)"
      ]
    },
    {
      "cell_type": "code",
      "execution_count": null,
      "metadata": {
        "collapsed": false
      },
      "outputs": [],
      "source": [
        "from torchaudio.io import AudioEffector, CodecConfig\n\nimport matplotlib.pyplot as plt\nfrom IPython.display import Audio"
      ]
    },
    {
      "cell_type": "code",
      "execution_count": null,
      "metadata": {
        "collapsed": false
      },
      "outputs": [],
      "source": [
        "for k, v in torchaudio.utils.ffmpeg_utils.get_versions().items():\n    print(k, v)"
      ]
    },
    {
      "cell_type": "markdown",
      "metadata": {},
      "source": [
        "## Usage\n\nTo use ``AudioEffector``, instantiate it with ``effect`` and\n``format``, then either pass the waveform to\n:py:meth:`~torchaudio.io.AudioEffector.apply` or\n:py:meth:`~torchaudio.io.AudioEffector.stream` method.\n\n.. code:: python\n\n   effector = AudioEffector(effect=..., format=...,)\n\n   # Apply at once\n   applied = effector.apply(waveform, sample_rate)\n\n``apply`` method applies effect and codec to the entire waveform at\nonce. So if the input waveform is long, and memory consumption is an\nissue, one can use ``stream`` method to process chunk by chunk.\n\n.. code:: python\n\n   # Apply chunk by chunk\n   for applied_chunk = effector.stream(waveform, sample_rate):\n       ...\n\n\n"
      ]
    },
    {
      "cell_type": "markdown",
      "metadata": {},
      "source": [
        "## Example\n\n\n"
      ]
    },
    {
      "cell_type": "code",
      "execution_count": null,
      "metadata": {
        "collapsed": false
      },
      "outputs": [],
      "source": [
        "src = torchaudio.utils.download_asset(\"tutorial-assets/Lab41-SRI-VOiCES-src-sp0307-ch127535-sg0042.wav\")\nwaveform, sr = torchaudio.load(src, channels_first=False)"
      ]
    },
    {
      "cell_type": "markdown",
      "metadata": {},
      "source": [
        "## Gallery\n\n\n"
      ]
    },
    {
      "cell_type": "code",
      "execution_count": null,
      "metadata": {
        "collapsed": false
      },
      "outputs": [],
      "source": [
        "def show(effect, *, stereo=False):\n    wf = torch.cat([waveform] * 2, dim=1) if stereo else waveform\n    figsize = (6.4, 2.1 if stereo else 1.2)\n\n    effector = AudioEffector(effect=effect, pad_end=False)\n    result = effector.apply(wf, int(sr))\n\n    num_channels = result.size(1)\n    f, ax = plt.subplots(num_channels, 1, squeeze=False, figsize=figsize, sharex=True)\n    for i in range(num_channels):\n        ax[i][0].specgram(result[:, i], Fs=sr)\n    f.set_tight_layout(True)\n\n    return Audio(result.numpy().T, rate=sr)"
      ]
    },
    {
      "cell_type": "markdown",
      "metadata": {},
      "source": [
        "## Original\n\n\n"
      ]
    },
    {
      "cell_type": "code",
      "execution_count": null,
      "metadata": {
        "collapsed": false
      },
      "outputs": [],
      "source": [
        "show(effect=None)"
      ]
    },
    {
      "cell_type": "markdown",
      "metadata": {},
      "source": [
        "## Effects\n\n\n"
      ]
    },
    {
      "cell_type": "markdown",
      "metadata": {},
      "source": [
        "### tempo\nhttps://ffmpeg.org/ffmpeg-filters.html#atempo\n\n"
      ]
    },
    {
      "cell_type": "code",
      "execution_count": null,
      "metadata": {
        "collapsed": false
      },
      "outputs": [],
      "source": [
        "show(\"atempo=0.7\")"
      ]
    },
    {
      "cell_type": "code",
      "execution_count": null,
      "metadata": {
        "collapsed": false
      },
      "outputs": [],
      "source": [
        "show(\"atempo=1.8\")"
      ]
    },
    {
      "cell_type": "markdown",
      "metadata": {},
      "source": [
        "### highpass\nhttps://ffmpeg.org/ffmpeg-filters.html#highpass\n\n"
      ]
    },
    {
      "cell_type": "code",
      "execution_count": null,
      "metadata": {
        "collapsed": false
      },
      "outputs": [],
      "source": [
        "show(\"highpass=frequency=1500\")"
      ]
    },
    {
      "cell_type": "markdown",
      "metadata": {},
      "source": [
        "### lowpass\nhttps://ffmpeg.org/ffmpeg-filters.html#lowpass\n\n"
      ]
    },
    {
      "cell_type": "code",
      "execution_count": null,
      "metadata": {
        "collapsed": false
      },
      "outputs": [],
      "source": [
        "show(\"lowpass=frequency=1000\")"
      ]
    },
    {
      "cell_type": "markdown",
      "metadata": {},
      "source": [
        "### allpass\nhttps://ffmpeg.org/ffmpeg-filters.html#allpass\n\n"
      ]
    },
    {
      "cell_type": "code",
      "execution_count": null,
      "metadata": {
        "collapsed": false
      },
      "outputs": [],
      "source": [
        "show(\"allpass\")"
      ]
    },
    {
      "cell_type": "markdown",
      "metadata": {},
      "source": [
        "### bandpass\nhttps://ffmpeg.org/ffmpeg-filters.html#bandpass\n\n"
      ]
    },
    {
      "cell_type": "code",
      "execution_count": null,
      "metadata": {
        "collapsed": false
      },
      "outputs": [],
      "source": [
        "show(\"bandpass=frequency=3000\")"
      ]
    },
    {
      "cell_type": "markdown",
      "metadata": {},
      "source": [
        "### bandreject\nhttps://ffmpeg.org/ffmpeg-filters.html#bandreject\n\n"
      ]
    },
    {
      "cell_type": "code",
      "execution_count": null,
      "metadata": {
        "collapsed": false
      },
      "outputs": [],
      "source": [
        "show(\"bandreject=frequency=3000\")"
      ]
    },
    {
      "cell_type": "markdown",
      "metadata": {},
      "source": [
        "### echo\nhttps://ffmpeg.org/ffmpeg-filters.html#aecho\n\n"
      ]
    },
    {
      "cell_type": "code",
      "execution_count": null,
      "metadata": {
        "collapsed": false
      },
      "outputs": [],
      "source": [
        "show(\"aecho=in_gain=0.8:out_gain=0.88:delays=6:decays=0.4\")"
      ]
    },
    {
      "cell_type": "code",
      "execution_count": null,
      "metadata": {
        "collapsed": false
      },
      "outputs": [],
      "source": [
        "show(\"aecho=in_gain=0.8:out_gain=0.88:delays=60:decays=0.4\")"
      ]
    },
    {
      "cell_type": "code",
      "execution_count": null,
      "metadata": {
        "collapsed": false
      },
      "outputs": [],
      "source": [
        "show(\"aecho=in_gain=0.8:out_gain=0.9:delays=1000:decays=0.3\")"
      ]
    },
    {
      "cell_type": "markdown",
      "metadata": {},
      "source": [
        "### chorus\nhttps://ffmpeg.org/ffmpeg-filters.html#chorus\n\n"
      ]
    },
    {
      "cell_type": "code",
      "execution_count": null,
      "metadata": {
        "collapsed": false
      },
      "outputs": [],
      "source": [
        "show(\"chorus=0.5:0.9:50|60|40:0.4|0.32|0.3:0.25|0.4|0.3:2|2.3|1.3\")"
      ]
    },
    {
      "cell_type": "markdown",
      "metadata": {},
      "source": [
        "### fft filter\nhttps://ffmpeg.org/ffmpeg-filters.html#afftfilt\n\n"
      ]
    },
    {
      "cell_type": "code",
      "execution_count": null,
      "metadata": {
        "collapsed": false
      },
      "outputs": [],
      "source": [
        "# fmt: off\nshow(\n    \"afftfilt=\"\n    \"real='re * (1-clip(b * (b/nb), 0, 1))':\"\n    \"imag='im * (1-clip(b * (b/nb), 0, 1))'\"\n)"
      ]
    },
    {
      "cell_type": "code",
      "execution_count": null,
      "metadata": {
        "collapsed": false
      },
      "outputs": [],
      "source": [
        "show(\n    \"afftfilt=\"\n    \"real='hypot(re,im) * sin(0)':\"\n    \"imag='hypot(re,im) * cos(0)':\"\n    \"win_size=512:\"\n    \"overlap=0.75\"\n)"
      ]
    },
    {
      "cell_type": "code",
      "execution_count": null,
      "metadata": {
        "collapsed": false
      },
      "outputs": [],
      "source": [
        "show(\n    \"afftfilt=\"\n    \"real='hypot(re,im) * cos(2 * 3.14 * (random(0) * 2-1))':\"\n    \"imag='hypot(re,im) * sin(2 * 3.14 * (random(1) * 2-1))':\"\n    \"win_size=128:\"\n    \"overlap=0.8\"\n)\n# fmt: on"
      ]
    },
    {
      "cell_type": "markdown",
      "metadata": {},
      "source": [
        "### vibrato\nhttps://ffmpeg.org/ffmpeg-filters.html#vibrato\n\n"
      ]
    },
    {
      "cell_type": "code",
      "execution_count": null,
      "metadata": {
        "collapsed": false
      },
      "outputs": [],
      "source": [
        "show(\"vibrato=f=10:d=0.8\")"
      ]
    },
    {
      "cell_type": "markdown",
      "metadata": {},
      "source": [
        "### tremolo\nhttps://ffmpeg.org/ffmpeg-filters.html#tremolo\n\n"
      ]
    },
    {
      "cell_type": "code",
      "execution_count": null,
      "metadata": {
        "collapsed": false
      },
      "outputs": [],
      "source": [
        "show(\"tremolo=f=8:d=0.8\")"
      ]
    },
    {
      "cell_type": "markdown",
      "metadata": {},
      "source": [
        "### crystalizer\nhttps://ffmpeg.org/ffmpeg-filters.html#crystalizer\n\n"
      ]
    },
    {
      "cell_type": "code",
      "execution_count": null,
      "metadata": {
        "collapsed": false
      },
      "outputs": [],
      "source": [
        "show(\"crystalizer\")"
      ]
    },
    {
      "cell_type": "markdown",
      "metadata": {},
      "source": [
        "### flanger\nhttps://ffmpeg.org/ffmpeg-filters.html#flanger\n\n"
      ]
    },
    {
      "cell_type": "code",
      "execution_count": null,
      "metadata": {
        "collapsed": false
      },
      "outputs": [],
      "source": [
        "show(\"flanger\")"
      ]
    },
    {
      "cell_type": "markdown",
      "metadata": {},
      "source": [
        "### phaser\nhttps://ffmpeg.org/ffmpeg-filters.html#aphaser\n\n"
      ]
    },
    {
      "cell_type": "code",
      "execution_count": null,
      "metadata": {
        "collapsed": false
      },
      "outputs": [],
      "source": [
        "show(\"aphaser\")"
      ]
    },
    {
      "cell_type": "markdown",
      "metadata": {},
      "source": [
        "### pulsator\nhttps://ffmpeg.org/ffmpeg-filters.html#apulsator\n\n"
      ]
    },
    {
      "cell_type": "code",
      "execution_count": null,
      "metadata": {
        "collapsed": false
      },
      "outputs": [],
      "source": [
        "show(\"apulsator\", stereo=True)"
      ]
    },
    {
      "cell_type": "markdown",
      "metadata": {},
      "source": [
        "### haas\nhttps://ffmpeg.org/ffmpeg-filters.html#haas\n\n"
      ]
    },
    {
      "cell_type": "code",
      "execution_count": null,
      "metadata": {
        "collapsed": false
      },
      "outputs": [],
      "source": [
        "show(\"haas\")"
      ]
    },
    {
      "cell_type": "markdown",
      "metadata": {},
      "source": [
        "## Codecs\n\n\n"
      ]
    },
    {
      "cell_type": "code",
      "execution_count": null,
      "metadata": {
        "collapsed": false
      },
      "outputs": [],
      "source": [
        "def show_multi(configs):\n    results = []\n    for config in configs:\n        effector = AudioEffector(**config)\n        results.append(effector.apply(waveform, int(sr)))\n\n    num_configs = len(configs)\n    figsize = (6.4, 0.3 + num_configs * 0.9)\n    f, axes = plt.subplots(num_configs, 1, figsize=figsize, sharex=True)\n    for result, ax in zip(results, axes):\n        ax.specgram(result[:, 0], Fs=sr)\n    f.set_tight_layout(True)\n\n    return [Audio(r.numpy().T, rate=sr) for r in results]"
      ]
    },
    {
      "cell_type": "markdown",
      "metadata": {},
      "source": [
        "### ogg\n\n\n"
      ]
    },
    {
      "cell_type": "code",
      "execution_count": null,
      "metadata": {
        "collapsed": false
      },
      "outputs": [],
      "source": [
        "results = show_multi(\n    [\n        {\"format\": \"ogg\"},\n        {\"format\": \"ogg\", \"encoder\": \"vorbis\"},\n        {\"format\": \"ogg\", \"encoder\": \"opus\"},\n    ]\n)"
      ]
    },
    {
      "cell_type": "markdown",
      "metadata": {},
      "source": [
        "#### ogg - default encoder (flac)\n\n\n"
      ]
    },
    {
      "cell_type": "code",
      "execution_count": null,
      "metadata": {
        "collapsed": false
      },
      "outputs": [],
      "source": [
        "results[0]"
      ]
    },
    {
      "cell_type": "markdown",
      "metadata": {},
      "source": [
        "#### ogg - vorbis\n\n\n"
      ]
    },
    {
      "cell_type": "code",
      "execution_count": null,
      "metadata": {
        "collapsed": false
      },
      "outputs": [],
      "source": [
        "results[1]"
      ]
    },
    {
      "cell_type": "markdown",
      "metadata": {},
      "source": [
        "#### ogg - opus\n\n\n"
      ]
    },
    {
      "cell_type": "code",
      "execution_count": null,
      "metadata": {
        "collapsed": false
      },
      "outputs": [],
      "source": [
        "results[2]"
      ]
    },
    {
      "cell_type": "markdown",
      "metadata": {},
      "source": [
        "### mp3\nhttps://trac.ffmpeg.org/wiki/Encode/MP3\n\n"
      ]
    },
    {
      "cell_type": "code",
      "execution_count": null,
      "metadata": {
        "collapsed": false
      },
      "outputs": [],
      "source": [
        "results = show_multi(\n    [\n        {\"format\": \"mp3\"},\n        {\"format\": \"mp3\", \"codec_config\": CodecConfig(compression_level=1)},\n        {\"format\": \"mp3\", \"codec_config\": CodecConfig(compression_level=9)},\n        {\"format\": \"mp3\", \"codec_config\": CodecConfig(bit_rate=192_000)},\n        {\"format\": \"mp3\", \"codec_config\": CodecConfig(bit_rate=8_000)},\n        {\"format\": \"mp3\", \"codec_config\": CodecConfig(qscale=9)},\n        {\"format\": \"mp3\", \"codec_config\": CodecConfig(qscale=1)},\n    ]\n)"
      ]
    },
    {
      "cell_type": "markdown",
      "metadata": {},
      "source": [
        "#### default\n\n"
      ]
    },
    {
      "cell_type": "code",
      "execution_count": null,
      "metadata": {
        "collapsed": false
      },
      "outputs": [],
      "source": [
        "results[0]"
      ]
    },
    {
      "cell_type": "markdown",
      "metadata": {},
      "source": [
        "#### compression_level=1\n\n"
      ]
    },
    {
      "cell_type": "code",
      "execution_count": null,
      "metadata": {
        "collapsed": false
      },
      "outputs": [],
      "source": [
        "results[1]"
      ]
    },
    {
      "cell_type": "markdown",
      "metadata": {},
      "source": [
        "#### compression_level=9\n\n"
      ]
    },
    {
      "cell_type": "code",
      "execution_count": null,
      "metadata": {
        "collapsed": false
      },
      "outputs": [],
      "source": [
        "results[2]"
      ]
    },
    {
      "cell_type": "markdown",
      "metadata": {},
      "source": [
        "#### bit_rate=192k\n\n"
      ]
    },
    {
      "cell_type": "code",
      "execution_count": null,
      "metadata": {
        "collapsed": false
      },
      "outputs": [],
      "source": [
        "results[3]"
      ]
    },
    {
      "cell_type": "markdown",
      "metadata": {},
      "source": [
        "#### bit_rate=8k\n\n"
      ]
    },
    {
      "cell_type": "code",
      "execution_count": null,
      "metadata": {
        "collapsed": false
      },
      "outputs": [],
      "source": [
        "results[4]"
      ]
    },
    {
      "cell_type": "markdown",
      "metadata": {},
      "source": [
        "#### qscale=9\n\n"
      ]
    },
    {
      "cell_type": "code",
      "execution_count": null,
      "metadata": {
        "collapsed": false
      },
      "outputs": [],
      "source": [
        "results[5]"
      ]
    },
    {
      "cell_type": "markdown",
      "metadata": {},
      "source": [
        "#### qscale=1\n\n"
      ]
    },
    {
      "cell_type": "code",
      "execution_count": null,
      "metadata": {
        "collapsed": false
      },
      "outputs": [],
      "source": [
        "results[6]"
      ]
    },
    {
      "cell_type": "markdown",
      "metadata": {},
      "source": [
        "Tag: :obj:`torchaudio.io`\n\n"
      ]
    }
  ],
  "metadata": {
    "kernelspec": {
      "display_name": "Python 3",
      "language": "python",
      "name": "python3"
    },
    "language_info": {
      "codemirror_mode": {
        "name": "ipython",
        "version": 3
      },
      "file_extension": ".py",
      "mimetype": "text/x-python",
      "name": "python",
      "nbconvert_exporter": "python",
      "pygments_lexer": "ipython3",
      "version": "3.10.14"
    }
  },
  "nbformat": 4,
  "nbformat_minor": 0
}